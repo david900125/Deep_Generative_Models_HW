{
  "nbformat": 4,
  "nbformat_minor": 0,
  "metadata": {
    "colab": {
      "provenance": [],
      "authorship_tag": "ABX9TyMmLsl6HXZ1oaeMoGAZ1yjq",
      "include_colab_link": true
    },
    "kernelspec": {
      "name": "python3",
      "display_name": "Python 3"
    },
    "language_info": {
      "name": "python"
    }
  },
  "cells": [
    {
      "cell_type": "markdown",
      "metadata": {
        "id": "view-in-github",
        "colab_type": "text"
      },
      "source": [
        "<a href=\"https://colab.research.google.com/github/david900125/Deep_Generative_Models_HW/blob/main/0907_HW/0907_CNN_%E6%89%8B%E5%AF%AB%E8%BE%A8%E8%AD%98.ipynb\" target=\"_parent\"><img src=\"https://colab.research.google.com/assets/colab-badge.svg\" alt=\"Open In Colab\"/></a>"
      ]
    },
    {
      "cell_type": "code",
      "source": [
        "# import tensorflow as tf\n",
        "import os\n",
        "import keras\n",
        "from keras.models import Sequential, load_model\n",
        "from keras.layers import Dense, Dropout, Flatten, Conv2D, MaxPooling2D\n",
        "from keras.utils import np_utils, plot_model\n",
        "from keras.datasets import mnist\n",
        "import matplotlib.pyplot as plt\n",
        "import pandas as pd"
      ],
      "metadata": {
        "id": "vF-OhasStp1Y"
      },
      "execution_count": null,
      "outputs": []
    },
    {
      "cell_type": "code",
      "source": [
        "# Mnist Dataset\n",
        "(X_train, Y_train), (X_test, Y_test) = mnist.load_data()\n",
        "\n",
        "# Translation of data\n",
        "x_train = X_train.reshape(X_train.shape[0], 28, 28, 1).astype('float32')\n",
        "x_test = X_test.reshape(X_test.shape[0], 28, 28, 1).astype('float32')\n",
        "y_train = np_utils.to_categorical(Y_train)\n",
        "y_test = np_utils.to_categorical(Y_test)"
      ],
      "metadata": {
        "id": "IXJP6ZA1txHv"
      },
      "execution_count": null,
      "outputs": []
    },
    {
      "cell_type": "code",
      "source": [
        "model = keras.models.Sequential([\n",
        "  Conv2D(64,(3,3),padding='same',activation='relu',input_shape=(28,28,1)),\n",
        "  MaxPooling2D((2,2)),\n",
        "  Conv2D(64,(3,3),padding='same',activation='relu'),\n",
        "  MaxPooling2D((2,2)),\n",
        "  Flatten(),\n",
        "  Dense(10,activation='softmax')\n",
        "])\n",
        "print(model.summary())"
      ],
      "metadata": {
        "id": "ayFS7fFtuAdX"
      },
      "execution_count": null,
      "outputs": []
    },
    {
      "cell_type": "code",
      "source": [
        "#\n",
        "# loss 損失函數\n",
        "model.compile(loss='categorical_crossentropy',optimizer='adam',metrics=['acc'])\n",
        "#\n",
        "# batch_size 每次梯度更新的樣本數\n",
        "# epochs 訓練模型迭代輪次\n",
        "# validation_split 每次梯度更新的樣本數\n",
        "\n",
        "history = model.fit(x=x_train,y=y_train,batch_size=128,epochs=5,validation_split=0.1)"
      ],
      "metadata": {
        "colab": {
          "base_uri": "https://localhost:8080/"
        },
        "id": "24kQMn-UvezP",
        "outputId": "18a55023-224b-4b6c-c85e-a6e42ed109e9"
      },
      "execution_count": null,
      "outputs": [
        {
          "output_type": "stream",
          "name": "stdout",
          "text": [
            "Epoch 1/5\n",
            "422/422 [==============================] - 125s 295ms/step - loss: 0.0309 - acc: 0.9949 - val_loss: 0.1403 - val_acc: 0.9868\n",
            "Epoch 2/5\n",
            "422/422 [==============================] - 122s 289ms/step - loss: 0.0138 - acc: 0.9970 - val_loss: 0.1260 - val_acc: 0.9875\n",
            "Epoch 3/5\n",
            "422/422 [==============================] - 122s 290ms/step - loss: 0.0118 - acc: 0.9972 - val_loss: 0.1238 - val_acc: 0.9903\n",
            "Epoch 4/5\n",
            "422/422 [==============================] - 127s 301ms/step - loss: 0.0149 - acc: 0.9971 - val_loss: 0.1673 - val_acc: 0.9855\n",
            "Epoch 5/5\n",
            "422/422 [==============================] - 120s 284ms/step - loss: 0.0139 - acc: 0.9969 - val_loss: 0.1538 - val_acc: 0.9898\n"
          ]
        }
      ]
    },
    {
      "cell_type": "code",
      "source": [
        "# Test 01\n",
        "loss, accuracy = model.evaluate(x_test, y_test)\n",
        "print('Test:')\n",
        "print('Loss: %s\\nAccuracy: %s' % (loss, accuracy))"
      ],
      "metadata": {
        "id": "V4vEYrw-v2JO",
        "colab": {
          "base_uri": "https://localhost:8080/"
        },
        "outputId": "51998d65-e022-4d8a-bf79-9adee3aa322b"
      },
      "execution_count": null,
      "outputs": [
        {
          "output_type": "stream",
          "name": "stdout",
          "text": [
            "313/313 [==============================] - 6s 18ms/step - loss: 0.0974 - acc: 0.9858\n",
            "Test:\n",
            "Loss: 0.09737446904182434\n",
            "Accuracy: 0.98580002784729\n"
          ]
        }
      ]
    },
    {
      "cell_type": "code",
      "source": [
        "# Test 02\n",
        "loss, accuracy = model.evaluate(x_test, y_test)\n",
        "print('Test:')\n",
        "print('Loss: %s\\nAccuracy: %s' % (loss, accuracy))"
      ],
      "metadata": {
        "colab": {
          "base_uri": "https://localhost:8080/"
        },
        "id": "WhpHJlAeEzn4",
        "outputId": "dafe923f-167e-49da-a0d6-fc9be22da428"
      },
      "execution_count": null,
      "outputs": [
        {
          "output_type": "stream",
          "name": "stdout",
          "text": [
            "313/313 [==============================] - 8s 26ms/step - loss: 0.1232 - acc: 0.9890\n",
            "Test:\n",
            "Loss: 0.12324569374322891\n",
            "Accuracy: 0.9890000224113464\n"
          ]
        }
      ]
    }
  ]
}