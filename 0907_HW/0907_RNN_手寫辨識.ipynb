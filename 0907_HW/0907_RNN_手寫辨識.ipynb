{
  "nbformat": 4,
  "nbformat_minor": 0,
  "metadata": {
    "colab": {
      "provenance": [],
      "authorship_tag": "ABX9TyMknWN8wraD1Z0vcLWtaZSa",
      "include_colab_link": true
    },
    "kernelspec": {
      "name": "python3",
      "display_name": "Python 3"
    },
    "language_info": {
      "name": "python"
    }
  },
  "cells": [
    {
      "cell_type": "markdown",
      "metadata": {
        "id": "view-in-github",
        "colab_type": "text"
      },
      "source": [
        "<a href=\"https://colab.research.google.com/github/david900125/Deep_Generative_Models_HW/blob/main/0907_HW/0907_RNN_%E6%89%8B%E5%AF%AB%E8%BE%A8%E8%AD%98.ipynb\" target=\"_parent\"><img src=\"https://colab.research.google.com/assets/colab-badge.svg\" alt=\"Open In Colab\"/></a>"
      ]
    },
    {
      "cell_type": "code",
      "execution_count": 60,
      "metadata": {
        "id": "7k6VBQ_2BbAI"
      },
      "outputs": [],
      "source": [
        "import tensorflow as tf\n",
        "from tensorflow.python import keras\n",
        "from keras.layers import Input, Dense, SimpleRNN, RNN\n",
        "from keras.models import Model\n",
        "from keras.utils import np_utils, plot_model\n",
        "import numpy as np\n",
        "import matplotlib.pyplot as plt"
      ]
    },
    {
      "cell_type": "code",
      "source": [
        "(x_train, y_train), (x_test, y_test) = tf.keras.datasets.mnist.load_data()\n",
        "\n",
        "x_train, x_test = x_train/255.,x_test/255."
      ],
      "metadata": {
        "id": "RrR7jiiTBfv7"
      },
      "execution_count": 134,
      "outputs": []
    },
    {
      "cell_type": "code",
      "source": [
        "inputs = Input(shape=(28, 28))\n",
        "RNN = SimpleRNN(units=64, activation='relu')(inputs)\n",
        "output = Dense(10, activation='softmax')(RNN)\n",
        "rnn = Model(inputs=inputs, outputs=output)\n",
        "rnn.summary()\n",
        "\n",
        "rnn.compile(\n",
        "    optimizer = tf.keras.optimizers.Adam(0.00001),  # Optimizer\n",
        "    # Loss function to minimize\n",
        "    loss=keras.losses.SparseCategoricalCrossentropy(),\n",
        "    # List of metrics to monitor\n",
        "    metrics=[keras.metrics.SparseCategoricalAccuracy()],\n",
        ")\n"
      ],
      "metadata": {
        "colab": {
          "base_uri": "https://localhost:8080/"
        },
        "id": "ODYq_PN1BgZ4",
        "outputId": "e024cacf-e0f1-4a6b-8ba2-4f2487986163"
      },
      "execution_count": 137,
      "outputs": [
        {
          "output_type": "stream",
          "name": "stdout",
          "text": [
            "Model: \"model_35\"\n",
            "_________________________________________________________________\n",
            " Layer (type)                Output Shape              Param #   \n",
            "=================================================================\n",
            " input_42 (InputLayer)       [(None, 28, 28)]          0         \n",
            "                                                                 \n",
            " simple_rnn_41 (SimpleRNN)   (None, 64)                5952      \n",
            "                                                                 \n",
            " dense_110 (Dense)           (None, 10)                650       \n",
            "                                                                 \n",
            "=================================================================\n",
            "Total params: 6,602\n",
            "Trainable params: 6,602\n",
            "Non-trainable params: 0\n",
            "_________________________________________________________________\n"
          ]
        }
      ]
    },
    {
      "cell_type": "code",
      "source": [
        "# rnn.fit(X_train, y_train, epochs=5, validation_data=(x_test, y_test), batch_size=sizeOfBatch)\n",
        "rnn.fit(x_train, y_train, epochs=5, validation_split=0.1)"
      ],
      "metadata": {
        "colab": {
          "base_uri": "https://localhost:8080/"
        },
        "id": "l8nMjZuKG5H1",
        "outputId": "09a7bab6-c3b0-4743-ba67-39418159c05d"
      },
      "execution_count": 138,
      "outputs": [
        {
          "output_type": "stream",
          "name": "stdout",
          "text": [
            "Epoch 1/5\n",
            "1688/1688 [==============================] - 10s 5ms/step - loss: 2.2592 - sparse_categorical_accuracy: 0.1145 - val_loss: 2.1887 - val_sparse_categorical_accuracy: 0.1279\n",
            "Epoch 2/5\n",
            "1688/1688 [==============================] - 11s 6ms/step - loss: 2.0387 - sparse_categorical_accuracy: 0.1482 - val_loss: 1.7667 - val_sparse_categorical_accuracy: 0.1790\n",
            "Epoch 3/5\n",
            "1688/1688 [==============================] - 9s 5ms/step - loss: 1.5344 - sparse_categorical_accuracy: 0.2205 - val_loss: 1.2444 - val_sparse_categorical_accuracy: 0.2690\n",
            "Epoch 4/5\n",
            "1688/1688 [==============================] - 9s 5ms/step - loss: 1.1598 - sparse_categorical_accuracy: 0.3160 - val_loss: 0.9480 - val_sparse_categorical_accuracy: 0.3581\n",
            "Epoch 5/5\n",
            "1688/1688 [==============================] - 8s 5ms/step - loss: 0.9597 - sparse_categorical_accuracy: 0.3929 - val_loss: 0.8070 - val_sparse_categorical_accuracy: 0.4242\n"
          ]
        },
        {
          "output_type": "execute_result",
          "data": {
            "text/plain": [
              "<keras.callbacks.History at 0x7808faa9b7f0>"
            ]
          },
          "metadata": {},
          "execution_count": 138
        }
      ]
    },
    {
      "cell_type": "code",
      "source": [
        "# Test 02\n",
        "loss, accuracy = rnn.evaluate(x_test, y_test)\n",
        "print('Test:')\n",
        "print('Loss: %s\\nAccuracy: %s' % (loss, accuracy))"
      ],
      "metadata": {
        "colab": {
          "base_uri": "https://localhost:8080/"
        },
        "id": "o8IaNAbkMP0_",
        "outputId": "484b1200-494f-4efe-e524-30f02f44b810"
      },
      "execution_count": null,
      "outputs": [
        {
          "output_type": "stream",
          "name": "stdout",
          "text": [
            "313/313 [==============================] - 1s 4ms/step - loss: 2.2523 - acc: 0.1778\n",
            "Test:\n",
            "Loss: 2.2522995471954346\n",
            "Accuracy: 0.1777999997138977\n"
          ]
        }
      ]
    }
  ]
}