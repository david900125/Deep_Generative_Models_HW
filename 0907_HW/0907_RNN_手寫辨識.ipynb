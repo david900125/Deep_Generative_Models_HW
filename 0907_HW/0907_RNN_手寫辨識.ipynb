{
  "nbformat": 4,
  "nbformat_minor": 0,
  "metadata": {
    "colab": {
      "provenance": [],
      "authorship_tag": "ABX9TyOLm8XRN7E0+SsEmK07LQU8",
      "include_colab_link": true
    },
    "kernelspec": {
      "name": "python3",
      "display_name": "Python 3"
    },
    "language_info": {
      "name": "python"
    }
  },
  "cells": [
    {
      "cell_type": "markdown",
      "metadata": {
        "id": "view-in-github",
        "colab_type": "text"
      },
      "source": [
        "<a href=\"https://colab.research.google.com/github/david900125/Deep_Generative_Models_HW/blob/main/0907_HW/0907_RNN_%E6%89%8B%E5%AF%AB%E8%BE%A8%E8%AD%98.ipynb\" target=\"_parent\"><img src=\"https://colab.research.google.com/assets/colab-badge.svg\" alt=\"Open In Colab\"/></a>"
      ]
    },
    {
      "cell_type": "code",
      "execution_count": null,
      "metadata": {
        "id": "7k6VBQ_2BbAI"
      },
      "outputs": [],
      "source": [
        "import tensorflow as tf\n",
        "from tensorflow.python import keras\n",
        "from keras.layers import Input, Dense, SimpleRNN, RNN\n",
        "from keras.models import Model\n",
        "from keras.utils import np_utils, plot_model\n",
        "import numpy as np\n",
        "import matplotlib.pyplot as plt"
      ]
    },
    {
      "cell_type": "code",
      "source": [
        "(x_train, y_train), (x_test, y_test) = tf.keras.datasets.mnist.load_data()\n",
        "\n",
        "x_train, x_test = x_train/255.,x_test/255."
      ],
      "metadata": {
        "id": "RrR7jiiTBfv7"
      },
      "execution_count": 160,
      "outputs": []
    },
    {
      "cell_type": "code",
      "source": [
        "inputs = Input(shape=(28, 28))\n",
        "x = SimpleRNN(units=64, activation='relu')(inputs)\n",
        "output = Dense(10, activation='softmax')(x)\n",
        "\n",
        "rnn = Model(inputs=inputs, outputs=output)\n",
        "rnn.summary()\n",
        "rnn.compile(loss='sparse_categorical_crossentropy',optimizer='adam',metrics=['accuracy'])"
      ],
      "metadata": {
        "colab": {
          "base_uri": "https://localhost:8080/"
        },
        "id": "ODYq_PN1BgZ4",
        "outputId": "0beb19e0-d516-496f-d285-34eb3da3bcbb"
      },
      "execution_count": 163,
      "outputs": [
        {
          "output_type": "stream",
          "name": "stdout",
          "text": [
            "Model: \"model_46\"\n",
            "_________________________________________________________________\n",
            " Layer (type)                Output Shape              Param #   \n",
            "=================================================================\n",
            " input_53 (InputLayer)       [(None, 28, 28)]          0         \n",
            "                                                                 \n",
            " simple_rnn_52 (SimpleRNN)   (None, 64)                5952      \n",
            "                                                                 \n",
            " dense_124 (Dense)           (None, 10)                650       \n",
            "                                                                 \n",
            "=================================================================\n",
            "Total params: 6,602\n",
            "Trainable params: 6,602\n",
            "Non-trainable params: 0\n",
            "_________________________________________________________________\n"
          ]
        }
      ]
    },
    {
      "cell_type": "code",
      "source": [
        "# rnn.fit(X_train, y_train, epochs=5, validation_data=(x_test, y_test), batch_size=sizeOfBatch)\n",
        "rnn.fit(x_train, y_train, epochs=5, validation_split=0.1)"
      ],
      "metadata": {
        "colab": {
          "base_uri": "https://localhost:8080/"
        },
        "id": "l8nMjZuKG5H1",
        "outputId": "e2ccb50a-db5c-405d-8bbb-40146c544de9"
      },
      "execution_count": 164,
      "outputs": [
        {
          "output_type": "stream",
          "name": "stdout",
          "text": [
            "Epoch 1/5\n",
            "1688/1688 [==============================] - 9s 5ms/step - loss: 0.5993 - accuracy: 0.8035 - val_loss: 0.2644 - val_accuracy: 0.9290\n",
            "Epoch 2/5\n",
            "1688/1688 [==============================] - 9s 5ms/step - loss: 0.2748 - accuracy: 0.9190 - val_loss: 0.1998 - val_accuracy: 0.9440\n",
            "Epoch 3/5\n",
            "1688/1688 [==============================] - 9s 5ms/step - loss: 0.2183 - accuracy: 0.9363 - val_loss: 0.1521 - val_accuracy: 0.9577\n",
            "Epoch 4/5\n",
            "1688/1688 [==============================] - 9s 5ms/step - loss: 0.1890 - accuracy: 0.9466 - val_loss: 0.1531 - val_accuracy: 0.9612\n",
            "Epoch 5/5\n",
            "1688/1688 [==============================] - 8s 5ms/step - loss: 0.1742 - accuracy: 0.9489 - val_loss: 0.1247 - val_accuracy: 0.9642\n"
          ]
        },
        {
          "output_type": "execute_result",
          "data": {
            "text/plain": [
              "<keras.callbacks.History at 0x780906d87400>"
            ]
          },
          "metadata": {},
          "execution_count": 164
        }
      ]
    },
    {
      "cell_type": "code",
      "source": [
        "# Test 02\n",
        "loss, accuracy = rnn.evaluate(x_test, y_test)\n",
        "print('Test:')\n",
        "print('Loss: %s\\nAccuracy: %s' % (loss, accuracy))"
      ],
      "metadata": {
        "colab": {
          "base_uri": "https://localhost:8080/"
        },
        "id": "o8IaNAbkMP0_",
        "outputId": "f7070250-432a-482d-86fc-6ba52ae27501"
      },
      "execution_count": 167,
      "outputs": [
        {
          "output_type": "stream",
          "name": "stdout",
          "text": [
            "313/313 [==============================] - 1s 3ms/step - loss: 0.1452 - accuracy: 0.9584\n",
            "Test:\n",
            "Loss: 0.1451994776725769\n",
            "Accuracy: 0.9584000110626221\n"
          ]
        }
      ]
    }
  ]
}