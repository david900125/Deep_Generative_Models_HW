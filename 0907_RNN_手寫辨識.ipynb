{
  "nbformat": 4,
  "nbformat_minor": 0,
  "metadata": {
    "colab": {
      "provenance": [],
      "authorship_tag": "ABX9TyO3Qwey2xlwtQwQRUd18FwR",
      "include_colab_link": true
    },
    "kernelspec": {
      "name": "python3",
      "display_name": "Python 3"
    },
    "language_info": {
      "name": "python"
    }
  },
  "cells": [
    {
      "cell_type": "markdown",
      "metadata": {
        "id": "view-in-github",
        "colab_type": "text"
      },
      "source": [
        "<a href=\"https://colab.research.google.com/github/david900125/Deep_Generative_Models_HW/blob/main/0907_RNN_%E6%89%8B%E5%AF%AB%E8%BE%A8%E8%AD%98.ipynb\" target=\"_parent\"><img src=\"https://colab.research.google.com/assets/colab-badge.svg\" alt=\"Open In Colab\"/></a>"
      ]
    },
    {
      "cell_type": "code",
      "execution_count": 40,
      "metadata": {
        "id": "7k6VBQ_2BbAI"
      },
      "outputs": [],
      "source": [
        "import tensorflow as tf\n",
        "from tensorflow.python import keras\n",
        "from keras.layers import Input, Dense, SimpleRNN, RNN\n",
        "from keras.models import Model\n",
        "from keras.utils import np_utils, plot_model\n",
        "import numpy as np\n",
        "import matplotlib.pyplot as plt"
      ]
    },
    {
      "cell_type": "code",
      "source": [
        "mnist = tf.keras.datasets.mnist\n",
        "(X_train, y_train), (X_test, y_test) = mnist.load_data()\n",
        "# 標準化數據\n",
        "x_train = X_train/255.0\n",
        "x_test = X_test/255.0"
      ],
      "metadata": {
        "id": "RrR7jiiTBfv7"
      },
      "execution_count": 28,
      "outputs": []
    },
    {
      "cell_type": "code",
      "source": [
        "sizeOfBatch = 128\n",
        "\n",
        "inputs = Input(batch_shape=(sizeOfBatch, 28, 28))\n",
        "RNN1 = SimpleRNN(units=128, activation='relu', return_sequences=False, return_state=False)\n",
        "RNN1_output= RNN1(inputs)\n",
        "\n",
        "Dense1_output = Dense(128, activation='relu')(RNN1_output)\n",
        "Dense2_output = Dense(64, activation='relu')(Dense1_output)\n",
        "output = Dense(10, activation='softmax')(Dense2_output)\n",
        "\n",
        "rnn = Model(inputs=inputs, outputs=output)\n",
        "rnn.compile(loss='sparse_categorical_crossentropy',optimizer='adam',metrics=['acc'])\n",
        "rnn.summary()"
      ],
      "metadata": {
        "colab": {
          "base_uri": "https://localhost:8080/"
        },
        "id": "ODYq_PN1BgZ4",
        "outputId": "81f30536-de2b-4613-c991-a1ec7d2e3b4e"
      },
      "execution_count": 46,
      "outputs": [
        {
          "output_type": "stream",
          "name": "stdout",
          "text": [
            "Model: \"model_11\"\n",
            "_________________________________________________________________\n",
            " Layer (type)                Output Shape              Param #   \n",
            "=================================================================\n",
            " input_12 (InputLayer)       [(128, 28, 28)]           0         \n",
            "                                                                 \n",
            " simple_rnn_11 (SimpleRNN)   (128, 128)                20096     \n",
            "                                                                 \n",
            " dense_33 (Dense)            (128, 128)                16512     \n",
            "                                                                 \n",
            " dense_34 (Dense)            (128, 64)                 8256      \n",
            "                                                                 \n",
            " dense_35 (Dense)            (128, 10)                 650       \n",
            "                                                                 \n",
            "=================================================================\n",
            "Total params: 45,514\n",
            "Trainable params: 45,514\n",
            "Non-trainable params: 0\n",
            "_________________________________________________________________\n"
          ]
        }
      ]
    },
    {
      "cell_type": "code",
      "source": [
        "# rnn.fit(X_train, y_train, epochs=5, validation_data=(x_test, y_test), batch_size=sizeOfBatch)\n",
        "rnn.fit(X_train, y_train, epochs=5, validation_split=0.1, batch_size=sizeOfBatch)"
      ],
      "metadata": {
        "colab": {
          "base_uri": "https://localhost:8080/"
        },
        "id": "l8nMjZuKG5H1",
        "outputId": "16063d4b-b704-4cd5-93fe-8b55c3c01432"
      },
      "execution_count": 47,
      "outputs": [
        {
          "output_type": "stream",
          "name": "stdout",
          "text": [
            "Epoch 1/5\n",
            "422/422 [==============================] - 11s 22ms/step - loss: 1.3981 - acc: 0.5302 - val_loss: 0.7941 - val_acc: 0.6878\n",
            "Epoch 2/5\n",
            "422/422 [==============================] - 9s 22ms/step - loss: 0.6447 - acc: 0.7701 - val_loss: 0.4355 - val_acc: 0.8497\n",
            "Epoch 3/5\n",
            "422/422 [==============================] - 8s 19ms/step - loss: 0.4305 - acc: 0.8552 - val_loss: 0.2662 - val_acc: 0.9202\n",
            "Epoch 4/5\n",
            "422/422 [==============================] - 10s 23ms/step - loss: 0.3003 - acc: 0.9065 - val_loss: 0.2007 - val_acc: 0.9430\n",
            "Epoch 5/5\n",
            "422/422 [==============================] - 12s 28ms/step - loss: 0.2330 - acc: 0.9304 - val_loss: 0.1789 - val_acc: 0.9482\n"
          ]
        },
        {
          "output_type": "execute_result",
          "data": {
            "text/plain": [
              "<keras.callbacks.History at 0x780900e3e050>"
            ]
          },
          "metadata": {},
          "execution_count": 47
        }
      ]
    },
    {
      "cell_type": "code",
      "source": [
        "# Test 02\n",
        "loss, accuracy = rnn.evaluate(x_test, y_test)\n",
        "print('Test:')\n",
        "print('Loss: %s\\nAccuracy: %s' % (loss, accuracy))"
      ],
      "metadata": {
        "colab": {
          "base_uri": "https://localhost:8080/"
        },
        "id": "o8IaNAbkMP0_",
        "outputId": "484b1200-494f-4efe-e524-30f02f44b810"
      },
      "execution_count": 49,
      "outputs": [
        {
          "output_type": "stream",
          "name": "stdout",
          "text": [
            "313/313 [==============================] - 1s 4ms/step - loss: 2.2523 - acc: 0.1778\n",
            "Test:\n",
            "Loss: 2.2522995471954346\n",
            "Accuracy: 0.1777999997138977\n"
          ]
        }
      ]
    }
  ]
}